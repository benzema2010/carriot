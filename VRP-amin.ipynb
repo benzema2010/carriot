{
 "cells": [
  {
   "cell_type": "code",
   "execution_count": 1,
   "metadata": {},
   "outputs": [
    {
     "ename": "ModuleNotFoundError",
     "evalue": "No module named 'folium'",
     "output_type": "error",
     "traceback": [
      "\u001b[1;31m---------------------------------------------------------------------------\u001b[0m",
      "\u001b[1;31mModuleNotFoundError\u001b[0m                       Traceback (most recent call last)",
      "\u001b[1;32m<ipython-input-1-eff9bbcbe96e>\u001b[0m in \u001b[0;36m<module>\u001b[1;34m\u001b[0m\n\u001b[0;32m      4\u001b[0m \u001b[1;32mimport\u001b[0m \u001b[0mnumpy\u001b[0m \u001b[1;32mas\u001b[0m \u001b[0mnp\u001b[0m\u001b[1;33m\u001b[0m\u001b[1;33m\u001b[0m\u001b[0m\n\u001b[0;32m      5\u001b[0m \u001b[1;32mfrom\u001b[0m \u001b[0mcollections\u001b[0m \u001b[1;32mimport\u001b[0m \u001b[0mnamedtuple\u001b[0m\u001b[1;33m\u001b[0m\u001b[1;33m\u001b[0m\u001b[0m\n\u001b[1;32m----> 6\u001b[1;33m \u001b[1;32mimport\u001b[0m \u001b[0mfolium\u001b[0m\u001b[1;33m\u001b[0m\u001b[1;33m\u001b[0m\u001b[0m\n\u001b[0m\u001b[0;32m      7\u001b[0m \u001b[1;32mimport\u001b[0m \u001b[0mrandom\u001b[0m\u001b[1;33m\u001b[0m\u001b[1;33m\u001b[0m\u001b[0m\n\u001b[0;32m      8\u001b[0m \u001b[1;32mfrom\u001b[0m \u001b[0mdatetime\u001b[0m \u001b[1;32mimport\u001b[0m \u001b[0mdatetime\u001b[0m\u001b[1;33m\u001b[0m\u001b[1;33m\u001b[0m\u001b[0m\n",
      "\u001b[1;31mModuleNotFoundError\u001b[0m: No module named 'folium'"
     ]
    }
   ],
   "source": [
    "from __future__ import print_function\n",
    "from ortools.constraint_solver import routing_enums_pb2\n",
    "from ortools.constraint_solver import pywrapcp\n",
    "import numpy as np\n",
    "from collections import namedtuple\n",
    "import folium\n",
    "import random\n",
    "from datetime import datetime\n",
    "from folium import plugins\n",
    "import pandas as pd"
   ]
  },
  {
   "cell_type": "code",
   "execution_count": null,
   "metadata": {},
   "outputs": [],
   "source": [
    "def create_data_model(jsfile):\n",
    "    \"\"\"Stores the data for the problem.\"\"\"\n",
    "    #set code for times that distance and time matrix are given\n",
    "    coded=0\n",
    "    codet=0\n",
    "    data = {}\n",
    "    data['points']=[[jsfile['points'][i]['latitude'],jsfile['points'][i]['longitude']] for i in range(len(jsfile['points']))]\n",
    "    if jsfile['constraint']:\n",
    "        if jsfile['constraint']['distance']:\n",
    "            data['distance_matrix']=[[value for key,value in jsfile['constraint']['distance'][0][i].items()] for i in range(1,len(jsfile['constraint']['distance'][0])+1)]\n",
    "            coded=1\n",
    "\n",
    "        if jsfile['constraint']['time']:\n",
    "            data['time_matrix']=[[value for key,value in jsfile['constraint']['time'][0][i].items()] for i in range(1,len(jsfile['constraint']['time'][0])+1)]\n",
    "            codet=1\n",
    "\n",
    "    data['codes']=[coded,codet]\n",
    "    data['cost_matrix']=[[value for key,value in jsfile['cost'][0][i].items()] for i in range(1,len(jsfile['cost'][0])+1)]\n",
    "    data['num_vehicles'] = len(jsfile['cars'])\n",
    "#     data['start']=[0 for i in range(len(jsfile['cars']))]\n",
    "    data['start'] = [24, 26]\n",
    "#     data['end']=data['start']\n",
    "    data['end'] =[25, 27]\n",
    "    data['depot'] = 0\n",
    "    try:\n",
    "        data['demands']=[i['amount'] for i in jsfile['points']]\n",
    "        data['vehicle_capacities']=[i['capacity'] for i in jsfile['cars']]\n",
    "    except:\n",
    "        pass\n",
    "\n",
    "    return data"
   ]
  },
  {
   "cell_type": "code",
   "execution_count": null,
   "metadata": {},
   "outputs": [],
   "source": [
    "jsf={\n",
    "\"cars\":[{\"id\":1,\"capacity\":10},{'id':2,'capacity':12}],\n",
    "\"constraint\":{'distance':[{1:{1:0,2:26,3:6,4:5},2:{1:26,2:0,3:16,4:4},3:{1:6,2:16,3:0,4:11},4:{1:5,2:4,3:11,4:0}}],'time':[]},\n",
    "\"points\":[{\"id\":1,\"amount\":5,\"latitude\":35.806900, \"longitude\":51.429000}, {\"id\":2,\"amount\":6,\"latitude\":35.699760, \"longitude\":51.339740},{'id':3,'amount':1,'latitude':35.732095,'longitude':51.482965},{'id':4,'amount':2,'latitude':35.777073,'longitude': 51.347319}],\n",
    "\"cost\":[{1:{1:0,2:100,3:6,4:1},2:{1:100, 2:0,3:9,4:5},3:{1:6,2:9,3:0,4:70},4:{1:1,2:5,3:70,4:0}}]\n",
    "}\n",
    "data = create_data_model(jsf)\n",
    "data"
   ]
  },
  {
   "cell_type": "code",
   "execution_count": null,
   "metadata": {},
   "outputs": [],
   "source": [
    "def get_routes(manager, routing, solution, num_routes):\n",
    "    \"\"\"Get vehicle routes from a solution and store them in an array.\"\"\"\n",
    "    # Get vehicle routes and store them in a two dimensional array whose\n",
    "    # i,j entry is the jth location visited by vehicle i along its route.\n",
    "    routes = []\n",
    "    for route_nbr in range(num_routes):\n",
    "        index = routing.Start(route_nbr)\n",
    "        route = [manager.IndexToNode(index)]\n",
    "        while not routing.IsEnd(index):\n",
    "            index = solution.Value(routing.NextVar(index))\n",
    "            route.append(manager.IndexToNode(index))\n",
    "        routes.append(route)\n",
    "    #print(routes)\n",
    "    return routes\n",
    "\n",
    "def main(data):\n",
    "    # Create the routing index manager.\n",
    "    manager = pywrapcp.RoutingIndexManager(len(data['cost_matrix']), data['num_vehicles'], data['start'],data['end'])\n",
    "\n",
    "    # Create Routing Model.\n",
    "    routing = pywrapcp.RoutingModel(manager)\n",
    "    # Create and register a transit callback.\n",
    "    def cost_callback(from_index, to_index):\n",
    "        \"\"\"Returns the distance between the two nodes.\"\"\"\n",
    "        # Convert from routing variable Index to distance matrix NodeIndex.\n",
    "        from_node = manager.IndexToNode(from_index)\n",
    "        to_node = manager.IndexToNode(to_index)\n",
    "        return data['cost_matrix'][from_node][to_node]\n",
    "\n",
    "    transit_callback_index = routing.RegisterTransitCallback(cost_callback)\n",
    "    routing.SetArcCostEvaluatorOfAllVehicles(transit_callback_index)\n",
    "    max_int= 2 * 60 * 60\n",
    "    # Add Cost constraint.\n",
    "    routing.AddDimension(\n",
    "        transit_callback_index,\n",
    "        0,  # no slack\n",
    "        max_int,  # vehicle maximum travel distance\n",
    "        False,  # start cumul to zero\n",
    "        'Cost')\n",
    "    cost_dimension = routing.GetDimensionOrDie('Cost')\n",
    "    cost_dimension.SetGlobalSpanCostCoefficient(1000)\n",
    "\n",
    "    #Add Distance constraint.\n",
    "    if data['codes'][0]:\n",
    "        def distance_callback(from_index,to_index):\n",
    "            from_node = manager.IndexToNode(from_index)\n",
    "            to_node = manager.IndexToNode(to_index)\n",
    "            return data['distance_matrix'][from_node][to_node]\n",
    "\n",
    "        distance_callback_index=routing.RegisterTransitCallback(distance_callback)\n",
    "        routing.AddDimension(\n",
    "            distance_callback_index,\n",
    "            0,\n",
    "            max_int,\n",
    "            False,\n",
    "            'Distance')\n",
    "        distance_dimension=routing.GetDimensionOrDie('Distance')\n",
    "\n",
    "    #Add Time constraint.\n",
    "    if data['codes'][1]:\n",
    "        def time_callback(from_index,to_index):\n",
    "            from_node = manager.IndexToNode(from_index)\n",
    "            to_node = manager.IndexToNode(to_index)\n",
    "            return data['time_matrix'][from_node][to_node]\n",
    "\n",
    "        time_callback_index=routing.RegisterTransitCallback(time_callback)\n",
    "        routing.AddDimension(\n",
    "            time_callback_index,\n",
    "            0,\n",
    "            max_int,\n",
    "            False,\n",
    "            'Time')\n",
    "        time_dimension=routing.GetDimensionOrDie('Time')\n",
    "\n",
    "    # Add Capacity constraint.\n",
    "    def demand_callback(from_index):\n",
    "        \"\"\"Returns the demand of the node.\"\"\"\n",
    "        # Convert from routing variable Index to demands NodeIndex.\n",
    "        from_node = manager.IndexToNode(from_index)\n",
    "        return data['demands'][from_node]\n",
    "\n",
    "    demand_callback_index = routing.RegisterUnaryTransitCallback(demand_callback)\n",
    "\n",
    "    routing.AddDimensionWithVehicleCapacity(\n",
    "        demand_callback_index,\n",
    "        0,  # null capacity slack\n",
    "        data['vehicle_capacities'],  # vehicle maximum capacities\n",
    "        True,  # start cumul to zero\n",
    "        'Capacity')\n",
    "\n",
    "    search_parameters = pywrapcp.DefaultRoutingSearchParameters()\n",
    "    # Setting first solution heuristic.\n",
    "    search_parameters.first_solution_strategy = (routing_enums_pb2.FirstSolutionStrategy.GLOBAL_CHEAPEST_ARC)\n",
    "    #Setting local search\n",
    "    #search_parameters.local_search_metaheuristic = (routing_enums_pb2.LocalSearchMetaheuristic.GUIDED_LOCAL_SEARCH)\n",
    "\n",
    "    search_parameters.solution_limit = 1000000\n",
    "    search_parameters.log_search = True\n",
    "    search_parameters.time_limit.seconds = 30\n",
    "    #print(search_parameters)\n",
    "    # Solve the problem.\n",
    "    assignment = routing.SolveWithParameters(search_parameters)\n",
    "    if assignment:\n",
    "        routes = get_routes(manager, routing, assignment, data['num_vehicles'])\n",
    "        return routes\n",
    "    else:\n",
    "        print('No solution found')\n"
   ]
  },
  {
   "cell_type": "code",
   "execution_count": null,
   "metadata": {},
   "outputs": [],
   "source": [
    "route=main(data)\n",
    "route"
   ]
  },
  {
   "cell_type": "code",
   "execution_count": null,
   "metadata": {},
   "outputs": [],
   "source": [
    "df = pd.read_csv(\"data-bil.csv\", header=0) \n",
    "df.head()"
   ]
  },
  {
   "cell_type": "code",
   "execution_count": 2,
   "metadata": {},
   "outputs": [
    {
     "ename": "NameError",
     "evalue": "name 'df' is not defined",
     "output_type": "error",
     "traceback": [
      "\u001b[1;31m---------------------------------------------------------------------------\u001b[0m",
      "\u001b[1;31mNameError\u001b[0m                                 Traceback (most recent call last)",
      "\u001b[1;32m<ipython-input-2-eea7de9fa590>\u001b[0m in \u001b[0;36m<module>\u001b[1;34m\u001b[0m\n\u001b[1;32m----> 1\u001b[1;33m \u001b[0mdf\u001b[0m \u001b[1;33m=\u001b[0m \u001b[0mdf\u001b[0m\u001b[1;33m[\u001b[0m\u001b[0mdf\u001b[0m\u001b[1;33m[\u001b[0m\u001b[1;34m'type'\u001b[0m\u001b[1;33m]\u001b[0m\u001b[1;33m!=\u001b[0m\u001b[1;34m'استرابورد'\u001b[0m\u001b[1;33m]\u001b[0m\u001b[1;33m\u001b[0m\u001b[1;33m\u001b[0m\u001b[0m\n\u001b[0m\u001b[0;32m      2\u001b[0m \u001b[0mdf\u001b[0m \u001b[1;33m=\u001b[0m \u001b[0mdf\u001b[0m\u001b[1;33m[\u001b[0m\u001b[0mdf\u001b[0m\u001b[1;33m[\u001b[0m\u001b[1;34m'lat'\u001b[0m\u001b[1;33m]\u001b[0m\u001b[1;33m.\u001b[0m\u001b[0mnotnull\u001b[0m\u001b[1;33m(\u001b[0m\u001b[1;33m)\u001b[0m\u001b[1;33m]\u001b[0m\u001b[1;33m\u001b[0m\u001b[1;33m\u001b[0m\u001b[0m\n\u001b[0;32m      3\u001b[0m \u001b[0mdf\u001b[0m \u001b[1;33m=\u001b[0m \u001b[0mdf\u001b[0m\u001b[1;33m[\u001b[0m\u001b[1;33m(\u001b[0m\u001b[0mdf\u001b[0m\u001b[1;33m[\u001b[0m\u001b[1;34m'start'\u001b[0m\u001b[1;33m]\u001b[0m \u001b[1;33m<\u001b[0m \u001b[1;34m'03-18'\u001b[0m\u001b[1;33m)\u001b[0m\u001b[1;33m]\u001b[0m\u001b[1;33m\u001b[0m\u001b[1;33m\u001b[0m\u001b[0m\n\u001b[0;32m      4\u001b[0m \u001b[0mdf\u001b[0m \u001b[1;33m=\u001b[0m \u001b[0mdf\u001b[0m\u001b[1;33m[\u001b[0m\u001b[0mdf\u001b[0m\u001b[1;33m[\u001b[0m\u001b[1;34m'end'\u001b[0m\u001b[1;33m]\u001b[0m \u001b[1;33m>\u001b[0m \u001b[1;34m'03-18'\u001b[0m\u001b[1;33m]\u001b[0m\u001b[1;33m\u001b[0m\u001b[1;33m\u001b[0m\u001b[0m\n\u001b[0;32m      5\u001b[0m \u001b[0mdf\u001b[0m \u001b[1;33m=\u001b[0m \u001b[0mdf\u001b[0m\u001b[1;33m.\u001b[0m\u001b[0mreset_index\u001b[0m\u001b[1;33m(\u001b[0m\u001b[0mdrop\u001b[0m\u001b[1;33m=\u001b[0m\u001b[1;32mTrue\u001b[0m\u001b[1;33m)\u001b[0m\u001b[1;33m\u001b[0m\u001b[1;33m\u001b[0m\u001b[0m\n",
      "\u001b[1;31mNameError\u001b[0m: name 'df' is not defined"
     ]
    }
   ],
   "source": [
    "df = df[df['type']!='استرابورد']\n",
    "df = df[df['lat'].notnull()]\n",
    "df = df[(df['start'] < '03-18')]\n",
    "df = df[df['end'] > '03-18']\n",
    "df = df.reset_index(drop=True)\n",
    "len(df)"
   ]
  },
  {
   "cell_type": "code",
   "execution_count": null,
   "metadata": {},
   "outputs": [],
   "source": [
    "# df.loc[df.shape[0]] = ['xxx1', 51.372656 ,35.693632 , 'Carriot_1', '03-17', '04-15']\n",
    "# df.loc[df.shape[0]] = ['xxx2', 51.372656 ,35.693632 , 'Carriot_2', '03-17', '04-15']\n",
    "# df.loc[df.shape[0]] = ['xxx3', 51.372656 ,35.693632 , 'Carriot_2', '03-17', '04-15']\n",
    "df.loc[len(df)] = ['شروع' ,51.55529868248729 ,35.73176754573533, 'start', '03-17', '04-15']\n",
    "df.loc[len(df)] = ['پایان', 51.55529868248729 ,35.73176754573533 , 'end', '03-17', '04-15']\n",
    "df.loc[len(df)] = ['شروع' ,51.358716666666666,35.642963333333334 , 'start', '03-17', '04-15']\n",
    "df.loc[len(df)] = ['پایان' ,51.358716666666666,35.642963333333334, 'end', '03-17', '04-15']\n",
    "df.head()"
   ]
  },
  {
   "cell_type": "code",
   "execution_count": null,
   "metadata": {},
   "outputs": [],
   "source": [
    "df"
   ]
  },
  {
   "cell_type": "code",
   "execution_count": null,
   "metadata": {},
   "outputs": [],
   "source": [
    "#df = df.iloc[0:25].reset_index(drop=True)\n",
    "# df1 = df.iloc[0:25].reset_index(drop=True)"
   ]
  },
  {
   "cell_type": "code",
   "execution_count": null,
   "metadata": {},
   "outputs": [],
   "source": [
    "#points = \";\".join((df['lat'].astype(str) + \",\" + df['lon'].astype(str)).to_numpy())"
   ]
  },
  {
   "cell_type": "code",
   "execution_count": null,
   "metadata": {},
   "outputs": [],
   "source": [
    "curbs = \";\".join(['curb'] * 2)"
   ]
  },
  {
   "cell_type": "code",
   "execution_count": null,
   "metadata": {},
   "outputs": [],
   "source": [
    "#URL = \"https://api.mapbox.com/directions-matrix/v1/mapbox/driving/\" + points + \"?approaches=\" + curbs + \"&access_token=pk.eyJ1IjoiYWJvbGZhemx0YWhlcmkiLCJhIjoiY2p6OXhudmt0MDJ2ZzNtcXM0Z25wMnllaSJ9.HCX4MlHSM1mTXvod27ddWw\""
   ]
  },
  {
   "cell_type": "code",
   "execution_count": null,
   "metadata": {},
   "outputs": [],
   "source": [
    "import requests\n",
    "#response = requests.get(URL)"
   ]
  },
  {
   "cell_type": "code",
   "execution_count": null,
   "metadata": {},
   "outputs": [],
   "source": [
    "import json\n",
    "#json_response = json.loads(response.content)\n",
    "#cost_matrix = json_response['durations']"
   ]
  },
  {
   "cell_type": "code",
   "execution_count": null,
   "metadata": {},
   "outputs": [],
   "source": [
    "df.reset_index(drop=True)\n",
    "df1=df.iloc[0:int(len(df)/2)].reset_index()\n",
    "df2=df.iloc[int(len(df)/2):len(df)].reset_index()"
   ]
  },
  {
   "cell_type": "code",
   "execution_count": null,
   "metadata": {},
   "outputs": [],
   "source": [
    "#if (len(df)%2 == 1):\n",
    "#    df.loc[df.shape[0]] = ['yyyy', '51.372656' ,'35.693632' , 'Carriot_x2']\n",
    "\n",
    "df.head()\n",
    "print (len(df))"
   ]
  },
  {
   "cell_type": "code",
   "execution_count": null,
   "metadata": {},
   "outputs": [],
   "source": [
    "df1=df.iloc[0:int(len(df)/4)].reset_index()\n",
    "df2=df.iloc[int(len(df)/4):int(len(df)/2)].reset_index()\n",
    "df3=df.iloc[int(len(df)/2):int(len(df)*3/4)].reset_index()\n",
    "df4=df.iloc[int(len(df)*3/4):len(df)].reset_index()\n",
    "\n",
    "df_GOD12=df.iloc[0:int(len(df)/2)].reset_index()\n",
    "df_GOD34=df.iloc[int(len(df)/2):len(df)].reset_index()\n",
    "df_GOD13=(pd.concat([df1,df3],ignore_index=True)).drop(columns=['index']).reset_index()\n",
    "df_GOD24=(pd.concat([df2,df4],ignore_index=True)).drop(columns=['index']).reset_index()\n",
    "df_GOD14=(pd.concat([df1,df4],ignore_index=True)).drop(columns=['index']).reset_index()\n",
    "df_GOD23=(pd.concat([df2,df3],ignore_index=True)).drop(columns=['index']).reset_index()\n",
    "\n",
    "print(len(df1))\n",
    "print(len(df_GOD13))\n",
    "print(len(df2))\n",
    "print(len(df3))\n",
    "print(len(df4))"
   ]
  },
  {
   "cell_type": "code",
   "execution_count": null,
   "metadata": {},
   "outputs": [],
   "source": [
    "print(len(df_GOD14))\n",
    "df_GOD14.head()"
   ]
  },
  {
   "cell_type": "code",
   "execution_count": null,
   "metadata": {},
   "outputs": [],
   "source": [
    "print(len(df_GOD12))\n",
    "df_GOD12.head()"
   ]
  },
  {
   "cell_type": "code",
   "execution_count": null,
   "metadata": {},
   "outputs": [],
   "source": [
    "print (URL13)"
   ]
  },
  {
   "cell_type": "code",
   "execution_count": null,
   "metadata": {},
   "outputs": [],
   "source": [
    "points12= \";\".join((df_GOD12['lat'].astype(str) + \",\" + df_GOD12['lon'].astype(str)).to_numpy())\n",
    "points34= \";\".join((df_GOD34['lat'].astype(str) + \",\" + df_GOD34['lon'].astype(str)).to_numpy())\n",
    "points13= \";\".join((df_GOD13['lat'].astype(str) + \",\" + df_GOD13['lon'].astype(str)).to_numpy())\n",
    "points24= \";\".join((df_GOD24['lat'].astype(str) + \",\" + df_GOD24['lon'].astype(str)).to_numpy())\n",
    "points14= \";\".join((df_GOD14['lat'].astype(str) + \",\" + df_GOD14['lon'].astype(str)).to_numpy())\n",
    "points23= \";\".join((df_GOD23['lat'].astype(str) + \",\" + df_GOD23['lon'].astype(str)).to_numpy())\n",
    "\n",
    "points1=\";\".join((df1['lat'].astype(str) + \",\" + df1['lon'].astype(str)).to_numpy())\n",
    "points2=\";\".join((df2['lat'].astype(str) + \",\" + df2['lon'].astype(str)).to_numpy())\n",
    "points3=\";\".join((df3['lat'].astype(str) + \",\" + df3['lon'].astype(str)).to_numpy())\n",
    "points4=\";\".join((df4['lat'].astype(str) + \",\" + df4['lon'].astype(str)).to_numpy())\n",
    "\n",
    "curbs1 = \";\".join(['curb'] * len(df_GOD12))\n",
    "curbs2 = \";\".join(['curb'] * len(df1))"
   ]
  },
  {
   "cell_type": "code",
   "execution_count": null,
   "metadata": {},
   "outputs": [],
   "source": [
    "len(df_GOD12)"
   ]
  },
  {
   "cell_type": "code",
   "execution_count": null,
   "metadata": {},
   "outputs": [],
   "source": [
    "URL1 =\"https://api.mapbox.com/directions-matrix/v1/mapbox/driving/\"+points12+\"?approaches=\"+curbs1+\"&access_token=pk.eyJ1IjoiYWJvbGZhemx0YWhlcmkiLCJhIjoiY2p6OXhudmt0MDJ2ZzNtcXM0Z25wMnllaSJ9.HCX4MlHSM1mTXvod27ddWw\"\n",
    "URL2 =\"https://api.mapbox.com/directions-matrix/v1/mapbox/driving/\"+points34+\"?approaches=\"+curbs1+\"&access_token=pk.eyJ1IjoiYWJvbGZhemx0YWhlcmkiLCJhIjoiY2p6OXhudmt0MDJ2ZzNtcXM0Z25wMnllaSJ9.HCX4MlHSM1mTXvod27ddWw\"\n",
    "URL13=\"https://api.mapbox.com/directions-matrix/v1/mapbox/driving/\"+points13+\"?approaches=\"+\";\".join(['curb'] * 14)+\"&sources=0;1;2;3;4;5;6\"+\"&destinations=7;8;9;10;11;12;13\"+\"&access_token=pk.eyJ1IjoiYWJvbGZhemx0YWhlcmkiLCJhIjoiY2p6OXhudmt0MDJ2ZzNtcXM0Z25wMnllaSJ9.HCX4MlHSM1mTXvod27ddWw\"\n",
    "URL31=\"https://api.mapbox.com/directions-matrix/v1/mapbox/driving/\"+points13+\"?approaches=\"+\";\".join(['curb'] * 14)+\"&sources=7;8;9;10;11;12;13\"+\"&destinations=0;1;2;3;4;5;6\"+\"&access_token=pk.eyJ1IjoiYWJvbGZhemx0YWhlcmkiLCJhIjoiY2p6OXhudmt0MDJ2ZzNtcXM0Z25wMnllaSJ9.HCX4MlHSM1mTXvod27ddWw\"\n",
    "URL24=\"https://api.mapbox.com/directions-matrix/v1/mapbox/driving/\"+points24+\"?approaches=\"+\";\".join(['curb'] * 14)+\"&sources=0;1;2;3;4;5;6\"+\"&destinations=7;8;9;10;11;12;13\"+\"&access_token=pk.eyJ1IjoiYWJvbGZhemx0YWhlcmkiLCJhIjoiY2p6OXhudmt0MDJ2ZzNtcXM0Z25wMnllaSJ9.HCX4MlHSM1mTXvod27ddWw\"\n",
    "URL42=\"https://api.mapbox.com/directions-matrix/v1/mapbox/driving/\"+points24+\"?approaches=\"+\";\".join(['curb'] * 14)+\"&sources=7;8;9;10;11;12;13\"+\"&destinations=0;1;2;3;4;5;6\"+\"&access_token=pk.eyJ1IjoiYWJvbGZhemx0YWhlcmkiLCJhIjoiY2p6OXhudmt0MDJ2ZzNtcXM0Z25wMnllaSJ9.HCX4MlHSM1mTXvod27ddWw\"\n",
    "URL14=\"https://api.mapbox.com/directions-matrix/v1/mapbox/driving/\"+points14+\"?approaches=\"+\";\".join(['curb'] * 14)+\"&sources=0;1;2;3;4;5;6\"+\"&destinations=7;8;9;10;11;12;13\"+\"&access_token=pk.eyJ1IjoiYWJvbGZhemx0YWhlcmkiLCJhIjoiY2p6OXhudmt0MDJ2ZzNtcXM0Z25wMnllaSJ9.HCX4MlHSM1mTXvod27ddWw\"\n",
    "URL41=\"https://api.mapbox.com/directions-matrix/v1/mapbox/driving/\"+points14+\"?approaches=\"+\";\".join(['curb'] * 14)+\"&sources=7;8;9;10;11;12;13\"+\"&destinations=0;1;2;3;4;5;6\"+\"&access_token=pk.eyJ1IjoiYWJvbGZhemx0YWhlcmkiLCJhIjoiY2p6OXhudmt0MDJ2ZzNtcXM0Z25wMnllaSJ9.HCX4MlHSM1mTXvod27ddWw\"\n",
    "URL23=\"https://api.mapbox.com/directions-matrix/v1/mapbox/driving/\"+points23+\"?approaches=\"+\";\".join(['curb'] * 14)+\"&sources=0;1;2;3;4;5;6\"+\"&destinations=7;8;9;10;11;12;13\"+\"&access_token=pk.eyJ1IjoiYWJvbGZhemx0YWhlcmkiLCJhIjoiY2p6OXhudmt0MDJ2ZzNtcXM0Z25wMnllaSJ9.HCX4MlHSM1mTXvod27ddWw\"\n",
    "URL32=\"https://api.mapbox.com/directions-matrix/v1/mapbox/driving/\"+points23+\"?approaches=\"+\";\".join(['curb'] * 14)+\"&sources=7;8;9;10;11;12;13\"+\"&destinations=0;1;2;3;4;5;6\"+\"&access_token=pk.eyJ1IjoiYWJvbGZhemx0YWhlcmkiLCJhIjoiY2p6OXhudmt0MDJ2ZzNtcXM0Z25wMnllaSJ9.HCX4MlHSM1mTXvod27ddWw\""
   ]
  },
  {
   "cell_type": "code",
   "execution_count": null,
   "metadata": {},
   "outputs": [],
   "source": [
    "response1  = requests.get(URL1)\n",
    "response2  = requests.get(URL2)\n",
    "response13 = requests.get(URL13)\n",
    "response31 = requests.get(URL31)\n",
    "response24 = requests.get(URL24)\n",
    "response42 = requests.get(URL42)\n",
    "response23 = requests.get(URL23)\n",
    "response32 = requests.get(URL32)\n",
    "response14 = requests.get(URL14)\n",
    "response41 = requests.get(URL41)\n",
    "\n",
    "json_response1  = json.loads(response1.content)\n",
    "json_response2  = json.loads(response2.content)\n",
    "json_response13 = json.loads(response13.content)\n",
    "json_response31 = json.loads(response31.content)\n",
    "json_response24 = json.loads(response24.content)\n",
    "json_response42 = json.loads(response42.content)\n",
    "json_response23 = json.loads(response23.content)\n",
    "json_response32 = json.loads(response32.content)\n",
    "json_response14 = json.loads(response14.content)\n",
    "json_response41 = json.loads(response41.content)\n",
    "\n",
    "cost_matrix1  = np.array(json_response1['durations'])\n",
    "cost_matrix2  = np.array(json_response2['durations'])\n",
    "cost_matrix13 = np.array(json_response13['durations'])\n",
    "cost_matrix31 = np.array(json_response31['durations'])\n",
    "cost_matrix24 = np.array(json_response24['durations'])\n",
    "cost_matrix42 = np.array(json_response42['durations'])\n",
    "cost_matrix23 = np.array(json_response23['durations'])\n",
    "cost_matrix32 = np.array(json_response32['durations'])\n",
    "cost_matrix14= np.array(json_response14['durations'])\n",
    "cost_matrix41= np.array(json_response41['durations'])"
   ]
  },
  {
   "cell_type": "code",
   "execution_count": null,
   "metadata": {},
   "outputs": [],
   "source": [
    "json_response13"
   ]
  },
  {
   "cell_type": "code",
   "execution_count": null,
   "metadata": {},
   "outputs": [],
   "source": [
    "x1 = np.concatenate((cost_matrix13 ,cost_matrix14) , axis=1)\n",
    "x2 =  np.concatenate((cost_matrix23 ,cost_matrix24) , axis=1)\n",
    "x12 = np.concatenate((x1 , x2) , axis=0)\n",
    "\n",
    "x3 = np.concatenate((cost_matrix31 ,cost_matrix32) , axis=1)\n",
    "x4 = np.concatenate((cost_matrix41 ,cost_matrix42) , axis=1)\n",
    "x34 = np.concatenate((x3 , x4) , axis=0)\n",
    "\n",
    "result_up = np.concatenate((cost_matrix1,x12),axis=1)\n",
    "result_do = np.concatenate((x34,cost_matrix2),axis=1)\n",
    "result = np.concatenate((result_up , result_do) , axis=0)"
   ]
  },
  {
   "cell_type": "code",
   "execution_count": null,
   "metadata": {},
   "outputs": [],
   "source": [
    "print(result)"
   ]
  },
  {
   "cell_type": "code",
   "execution_count": null,
   "metadata": {},
   "outputs": [],
   "source": [
    "import random\n",
    "points = []\n",
    "counter = 1\n",
    "index_to_id = {}\n",
    "for index, row in df.iterrows():\n",
    "    dic = {}\n",
    "    dic['id'] = index + 1\n",
    "#     index_to_id[counter] = index\n",
    "#     counter += 1\n",
    "#     dic['amount'] = random.randint(1, 10)\n",
    "    dic['amount'] = 1\n",
    "    dic['latitude'] = row['lon']\n",
    "    dic['longitude'] = row['lat']\n",
    "    points.append(dic)\n",
    "    \n",
    "points"
   ]
  },
  {
   "cell_type": "code",
   "execution_count": null,
   "metadata": {},
   "outputs": [],
   "source": [
    "distances = {}\n",
    "cost_matrix = result\n",
    "for i in range(len(cost_matrix)):\n",
    "    distances[i + 1] = {}\n",
    "    for j in range(len(cost_matrix)):\n",
    "        distances[i + 1][j + 1] = cost_matrix[i][j]\n",
    "\n",
    "distances"
   ]
  },
  {
   "cell_type": "code",
   "execution_count": null,
   "metadata": {},
   "outputs": [],
   "source": [
    "jsf={\n",
    "#     ,{'id':3,'capacity':500},{'id':4,'capacity':500},{'id':5,'capacity':500},{'id':6,'capacity':500}\n",
    "\"cars\":[{\"id\":1,\"capacity\":5000},{'id':2,'capacity':5000}],\n",
    "\"constraint\":{'distance':[],'time':[distances]},\n",
    "\"points\":points,\n",
    "\"cost\":[distances]\n",
    "}\n",
    "data = create_data_model(jsf)\n",
    "# data = {'points': df[['lon','lat']].to_numpy(),\n",
    "#  'distance_matrix': cost_matrix,\n",
    "#  'codes': [1, 0],\n",
    "#  'cost_matrix': cost_matrix,\n",
    "#  'num_vehicles': 5,\n",
    "#  'start': [0, 0],\n",
    "#  'end': [0, 0],\n",
    "#  'depot': 0,\n",
    "#  'demands': [15] * 25,\n",
    "#  'vehicle_capacities': [50, 50, 50, 50, 50]}\n",
    "data"
   ]
  },
  {
   "cell_type": "code",
   "execution_count": null,
   "metadata": {},
   "outputs": [],
   "source": [
    "def get_bearing(p1, p2):\n",
    "\n",
    "    '''Returns compass bearing from p1 to p2\n",
    "    Parameters\n",
    "    p1 : namedtuple with lat lon\n",
    "    p2 : namedtuple with lat lon\n",
    "\n",
    "    Return compass bearing of type float'''\n",
    "\n",
    "    long_diff = np.radians(p2.lon - p1.lon)\n",
    "    lat1 = np.radians(p1.lat)\n",
    "    lat2 = np.radians(p2.lat)\n",
    "\n",
    "    x = np.sin(long_diff) * np.cos(lat2)\n",
    "    y = (np.cos(lat1) * np.sin(lat2) - (np.sin(lat1) * np.cos(lat2) * np.cos(long_diff)))    \n",
    "    bearing = np.degrees(np.arctan2(x, y))\n",
    "\n",
    "    # adjusting for compass bearing\n",
    "    if bearing < 0:\n",
    "        return bearing + 360\n",
    "    return bearing\n",
    "def get_arrows(locations, color, size=6, n_arrows=3):\n",
    "    '''\n",
    "      Get a list of correctly placed and rotated \n",
    "      arrows/markers to be plotted\n",
    "\n",
    "      Parameters\n",
    "      locations : list of lists of lat lons that represent the \n",
    "            start and end of the line. \n",
    "            eg [[41.1132, -96.1993],[41.3810, -95.8021]]\n",
    "      arrow_color : default is 'blue'\n",
    "      size : default is 6\n",
    "      n_arrows : number of arrows to create.  default is 3    Return\n",
    "      list of arrows/markers\n",
    "    '''\n",
    "    Point = namedtuple('Point', field_names=['lat', 'lon'])\n",
    "\n",
    "    p1 = Point(float(locations[0][0]), float(locations[0][1]))\n",
    "    p2 = Point(float(locations[1][0]), float(locations[1][1]))\n",
    "\n",
    "    # getting the rotation needed for our marker.  \n",
    "    # Subtracting 90 to account for the marker's orientation\n",
    "    # of due East(get_bearing returns North)\n",
    "    rotation = get_bearing(p1, p2) - 90\n",
    "#     rotation = 45.0\n",
    "\n",
    "    # get an evenly space list of lats and lons for our arrows\n",
    "    # note that I'm discarding the first and last for aesthetics\n",
    "    # as I'm using markers to denote the start and end\n",
    "    arrow_lats = np.linspace(p1.lat, p2.lat, n_arrows + 2)[1:n_arrows+1]\n",
    "    arrow_lons = np.linspace(p1.lon, p2.lon, n_arrows + 2)[1:n_arrows+1]\n",
    "\n",
    "    arrows = []\n",
    "\n",
    "    #creating each \"arrow\" and appending them to our arrows list\n",
    "    for points in zip(arrow_lats, arrow_lons):\n",
    "        arrows.append(folium.RegularPolygonMarker(location=points, \n",
    "                  fill_color=color, number_of_sides=3, \n",
    "                  radius=size, rotation=rotation))\n",
    "    return arrows\n",
    "\n",
    "\n",
    "def route_folium(result,points):\n",
    "\n",
    "    colors = ['blue','orange','green','gray','lightgreen','darkblue','lightblue','purple','beige','pink','cadetblue','lightgray','black']\n",
    "    #print(result)\n",
    "    lat_long=[]\n",
    "    noptimized=folium.Map(location=points[0] , zoom_start=12)\n",
    "    antpath1 = plugins.AntPath(locations=points,color='red')\n",
    "    antpath1.add_to(noptimized)\n",
    "    folium.Marker(location = points[0] , popup='0').add_to(noptimized)\n",
    "    [folium.Marker(location = points[ind],\n",
    "          popup=str(ind),\n",
    "          icon=folium.Icon(color='red')).add_to(noptimized) for ind in np.arange(len(points))]\n",
    "    mymap= folium.Map(location=result[0][1][0] , zoom_start=12)\n",
    "    for items in result:\n",
    "        pointlist=items[1]\n",
    "        count=items[0]\n",
    "        color1=colors[count]\n",
    "        folium.Marker(location =pointlist[0] , popup='0',icon=folium.Icon(color='red')).add_to(mymap)\n",
    "        [folium.Marker(location = pointlist[ind] , popup=str(ind) ).add_to(mymap) for ind in range(1,len(pointlist)-1)]\n",
    "        for i,l in enumerate(pointlist):\n",
    "            if i==(len(pointlist)-1):\n",
    "                break\n",
    "            p1=pointlist[i]\n",
    "            p2=pointlist[i+1] \n",
    "            folium.PolyLine(locations=[p1, p2], color=color1,weight=3, opacity=0.8).add_to(mymap)\n",
    "            arrows = get_arrows(locations=[p1, p2], color=color1,n_arrows=3)\n",
    "            for arrow in arrows:\n",
    "                arrow.add_to(mymap)\n",
    "    #return mymap\n",
    "    mymap.save('after-dis-cost-first '+str(datetime.now())+'.html')\n",
    "    noptimized.save('before-dis-cost-first '+str(datetime.now())+'.html')\n",
    "    print('maps Saved!')"
   ]
  },
  {
   "cell_type": "code",
   "execution_count": null,
   "metadata": {},
   "outputs": [],
   "source": [
    "route=main(data)\n",
    "routes=[]\n",
    "for i in range(len(route)):\n",
    "    route_list=[]\n",
    "    for j in range(len(route[i])):\n",
    "        index=route[i][j]\n",
    "        route_list.append(data['points'][index])\n",
    "    rl=[i,route_list]\n",
    "    routes.append(rl)\n",
    "route_folium(routes,data['points'])"
   ]
  },
  {
   "cell_type": "code",
   "execution_count": null,
   "metadata": {},
   "outputs": [],
   "source": [
    "counter = 0\n",
    "for i in route[0]:\n",
    "    q = \"\"\"insert into missions (driver_id, latitude, longitude,state,\"order\",description,due_date) Values (42,%f,%f,0,%d,'%s','2020-06-07 03:30:00');\"\"\" % (df.iloc[i]['lon'],df.iloc[i]['lat'],counter,df.iloc[i]['آدرس'])\n",
    "    counter += 1\n",
    "    print(q)"
   ]
  },
  {
   "cell_type": "code",
   "execution_count": null,
   "metadata": {},
   "outputs": [],
   "source": [
    "route"
   ]
  }
 ],
 "metadata": {
  "kernelspec": {
   "display_name": "Python 3",
   "language": "python",
   "name": "python3"
  },
  "language_info": {
   "codemirror_mode": {
    "name": "ipython",
    "version": 3
   },
   "file_extension": ".py",
   "mimetype": "text/x-python",
   "name": "python",
   "nbconvert_exporter": "python",
   "pygments_lexer": "ipython3",
   "version": "3.7.6"
  }
 },
 "nbformat": 4,
 "nbformat_minor": 2
}
